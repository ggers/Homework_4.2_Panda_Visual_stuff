{
 "cells": [
  {
   "cell_type": "code",
   "execution_count": 78,
   "metadata": {},
   "outputs": [
    {
     "name": "stdout",
     "output_type": "stream",
     "text": [
      "1900\n",
      "        Name Gender  Count\n",
      "4       Ruth      F   4765\n",
      "756   Robert      F     24\n",
      "2229  Robert      M   3821\n",
      "2868    Ruth      M     16\n",
      "        Count\n",
      "Name         \n",
      "Robert   3845\n",
      "Ruth     4781\n",
      "2000\n",
      "         Name Gender  Count\n",
      "340      Ruth      F    903\n",
      "5113   Robert      F     23\n",
      "17681  Robert      M  13737\n",
      "        Count\n",
      "Name         \n",
      "Robert  13760\n",
      "Ruth      903\n"
     ]
    },
    {
     "data": {
      "text/html": [
       "<div>\n",
       "<style scoped>\n",
       "    .dataframe tbody tr th:only-of-type {\n",
       "        vertical-align: middle;\n",
       "    }\n",
       "\n",
       "    .dataframe tbody tr th {\n",
       "        vertical-align: top;\n",
       "    }\n",
       "\n",
       "    .dataframe thead th {\n",
       "        text-align: right;\n",
       "    }\n",
       "</style>\n",
       "<table border=\"1\" class=\"dataframe\">\n",
       "  <thead>\n",
       "    <tr style=\"text-align: right;\">\n",
       "      <th></th>\n",
       "      <th>level_0</th>\n",
       "      <th>Name</th>\n",
       "      <th>Count</th>\n",
       "    </tr>\n",
       "  </thead>\n",
       "  <tbody>\n",
       "    <tr>\n",
       "      <th>0</th>\n",
       "      <td>1900</td>\n",
       "      <td>Robert</td>\n",
       "      <td>3845</td>\n",
       "    </tr>\n",
       "    <tr>\n",
       "      <th>1</th>\n",
       "      <td>1900</td>\n",
       "      <td>Ruth</td>\n",
       "      <td>4781</td>\n",
       "    </tr>\n",
       "    <tr>\n",
       "      <th>2</th>\n",
       "      <td>2000</td>\n",
       "      <td>Robert</td>\n",
       "      <td>13760</td>\n",
       "    </tr>\n",
       "    <tr>\n",
       "      <th>3</th>\n",
       "      <td>2000</td>\n",
       "      <td>Ruth</td>\n",
       "      <td>903</td>\n",
       "    </tr>\n",
       "  </tbody>\n",
       "</table>\n",
       "</div>"
      ],
      "text/plain": [
       "   level_0    Name  Count\n",
       "0     1900  Robert   3845\n",
       "1     1900    Ruth   4781\n",
       "2     2000  Robert  13760\n",
       "3     2000    Ruth    903"
      ]
     },
     "execution_count": 78,
     "metadata": {},
     "output_type": "execute_result"
    },
    {
     "data": {
      "image/png": "[encoded data removed]",
      "text/plain": [
       "<Figure size 432x288 with 1 Axes>"
      ]
     },
     "metadata": {},
     "output_type": "display_data"
    }
   ],
   "source": [
    "#1 Построить график изменения количества имен Ruth и Robert с 1900 по 2000.\n",
    "#делаем через функцию\n",
    "def concat_names(target_years):\n",
    "    import pandas as pd\n",
    "    DATA_PATH = \"D:DataS\\YOB\"\n",
    "    names_dict = {}\n",
    "#циклом пробегаем по нужным нам годам, загружаем данные, обрезаем только нужные нам два имени\n",
    "    for target_year in target_years:\n",
    "        print(target_year)\n",
    "        all_names = pd.read_csv(f\"{DATA_PATH}\\yob{target_year}.txt\", names = [\"Name\", \"Gender\", \"Count\"])\n",
    "        names_RR = all_names[(all_names.Name == \"Ruth\")|(all_names.Name == \"Robert\")]\n",
    "        print(names_RR)\n",
    "#дополнительные телодвижения, чтобы учесть мужчин-Рут и женщин-Роберт\n",
    "        names_RR = names_RR.groupby(\"Name\").sum()\n",
    "        print(names_RR)\n",
    "#подгружаем данные в словарь по ключу \"Год\"\n",
    "        names_dict[target_year] =  names_RR\n",
    "#склеиваем данные и строим график - что-то идёт не так)\n",
    "    names_all = pd.concat(names_dict)\n",
    "    names_all.plot()\n",
    "    return names_all.reset_index()\n",
    "concat_names([1900, 2000])\n",
    "\n",
    "\n",
    "\n"
   ]
  },
  {
   "cell_type": "code",
   "execution_count": 71,
   "metadata": {},
   "outputs": [
    {
     "name": "stdout",
     "output_type": "stream",
     "text": [
      "             Count\n",
      "     Name         \n",
      "1900 Robert   3845\n",
      "     Ruth     4781\n",
      "1905 Robert   3431\n",
      "     Ruth     5088\n",
      "1910 Robert   5638\n",
      "     Ruth     7247\n",
      "1915 Robert  28854\n",
      "     Ruth    21924\n",
      "1920 Robert  48883\n",
      "     Ruth    26155\n",
      "1925 Robert  61246\n",
      "     Ruth    22325\n",
      "1930 Robert  62572\n",
      "     Ruth    15010\n",
      "1935 Robert  56755\n",
      "     Ruth    10041\n",
      "1940 Robert  61401\n",
      "     Ruth     8922\n",
      "1945 Robert  70132\n",
      "     Ruth     8063\n",
      "1950 Robert  83768\n",
      "     Ruth     7138\n",
      "1955 Robert  83953\n",
      "     Ruth     6200\n",
      "1960 Robert  72640\n",
      "     Ruth     4960\n",
      "1965 Robert  63389\n",
      "     Ruth     3242\n",
      "1970 Robert  57529\n",
      "     Ruth     1828\n",
      "1975 Robert  35579\n",
      "     Ruth     1235\n",
      "1980 Robert  34535\n",
      "     Ruth     1262\n",
      "1985 Robert  32326\n",
      "     Ruth     1125\n",
      "1990 Robert  28980\n",
      "     Ruth      913\n",
      "1995 Robert  18627\n",
      "     Ruth      858\n",
      "2000 Robert  13760\n",
      "     Ruth      903\n"
     ]
    },
    {
     "data": {
      "text/plain": [
       "<matplotlib.axes._subplots.AxesSubplot at 0xa74f588>"
      ]
     },
     "execution_count": 71,
     "metadata": {},
     "output_type": "execute_result"
    },
    {
     "data": {
      "image/png": "[encoded data removed]",
      "text/plain": [
       "<Figure size 432x288 with 1 Axes>"
      ]
     },
     "metadata": {},
     "output_type": "display_data"
    }
   ],
   "source": [
    "#2 Построить гистограмму по количеству их имен с 1900 по 2000 с 5-летними промежутками (1900, 1905, 1910, …, 1995, 2000).\n",
    "#а тут пробуем без функции, голым кодом\n",
    "names_dict = {}\n",
    "#циклом пробегаем по нужным нам годам, загружаем данные, обрезаем только нужные нам два имени\n",
    "for year in range (1900, 2001, 5):\n",
    "    all_names = pd.read_csv(f\"{DATA_PATH}\\yob{year}.txt\", names = [\"Name\", \"Gender\", \"Count\"])\n",
    "    names_RR = all_names[(all_names.Name == \"Ruth\")|(all_names.Name == \"Robert\")]\n",
    "    names_RR = names_RR.groupby(\"Name\").sum()\n",
    "    names_dict[year] =  names_RR\n",
    "#в прицнипе всё аналогично, просто данных намного больше, результат столь же кривой почему-то\n",
    "names_all = pd.concat(names_dict)\n",
    "print(names_all)\n",
    "names_all.plot.hist(by=\"Year\")"
   ]
  },
  {
   "cell_type": "code",
   "execution_count": 13,
   "metadata": {},
   "outputs": [
    {
     "data": {
      "text/plain": [
       "<matplotlib.axes._subplots.AxesSubplot at 0x92ccba8>"
      ]
     },
     "execution_count": 13,
     "metadata": {},
     "output_type": "execute_result"
    },
    {
     "data": {
      "image/png": "[encoded data removed]",
      "text/plain": [
       "<Figure size 432x288 with 1 Axes>"
      ]
     },
     "metadata": {},
     "output_type": "display_data"
    }
   ],
   "source": [
    "#3 Построить круговую диаграмму по количеству употреблений для ТОП-10 популярных имен, начинающихся на R, за 1950 год.\n",
    "names_1950 = pd.read_csv(f\"{DATA_PATH}\\yob1950.txt\", names = [\"Name\", \"Gender\", \"Count\"])\n",
    "names_1950[(names_1950.Name.str.startswith(\"R\"))].head(10).plot.pie(y=\"Count\")\n",
    "#тут криво, но вроде бы правильно"
   ]
  },
  {
   "cell_type": "code",
   "execution_count": 101,
   "metadata": {},
   "outputs": [
    {
     "name": "stdout",
     "output_type": "stream",
     "text": [
      "           Name    Count  Cons\n",
      "0         James  4810303     3\n",
      "1          John  4739978     3\n",
      "2        Robert  4638964     4\n",
      "3       Michael  4023311     4\n",
      "4          Mary  3853769     3\n",
      "5       William  3655351     4\n",
      "6         David  3351325     3\n",
      "7       Richard  2493119     5\n",
      "8        Joseph  2289781     4\n",
      "9       Charles  2189698     5\n",
      "10       Thomas  2122388     4\n",
      "11  Christopher  1763929     8\n",
      "                  Name  Count  Cons\n",
      "37042  Ryanchristopher     35    11\n",
      "25209  Johnchristopher    103    11\n",
      "34217  Christophermich     45    11\n",
      "58241  Markchristopher      6    11\n",
      "25807  Christopherjohn     97    11\n",
      "50995  Christopherryan     11    11\n",
      "64990  Jordanchristoph      5    11\n",
      "63826  Kevinchristophe      5    10\n",
      "49640      Krystallynn     12    10\n",
      "50518  Christiananthon     12    10\n",
      "29927      Crystallynn     66    10\n",
      "56634  Christopherjose      7    10\n",
      "       Name  Count  Cons\n",
      "1100    Zoe  28642     1\n",
      "42867  Dieu     22     1\n",
      "37658  Jaie     34     1\n",
      "39154   Joa     30     1\n",
      "42826    Du     22     1\n",
      "61604   Rua      5     1\n",
      "23095   Dai    127     1\n",
      "15833   Ree    278     1\n",
      "1321    Rae  20330     1\n",
      "10096   Moe    607     1\n",
      "58959  Toie      6     1\n",
      "37616   Mio     34     1\n"
     ]
    },
    {
     "data": {
      "text/plain": [
       "<matplotlib.axes._subplots.AxesSubplot at 0x10b2a860>"
      ]
     },
     "execution_count": 101,
     "metadata": {},
     "output_type": "execute_result"
    },
    {
     "data": {
      "image/png": "[encoded data removed]",
      "text/plain": [
       "<Figure size 432x288 with 1 Axes>"
      ]
     },
     "metadata": {},
     "output_type": "display_data"
    }
   ],
   "source": [
    "#4 Построить точечную диаграмму по количеству согласных букв в именах и частоте употребления за 100 лет. Т.е. необходимо сложить всю статистику с 1900 до 2000, сгруппировать по именам, посчитать количество согласных букв в каждом имени и вывести на график отношение \"Количество согласных букв в имени\" : \"Количество употреблений\".\n",
    "\n",
    "def count_cons(row):\n",
    "    return len([c for c in row.Name if c not in 'aeiou'])\n",
    "\n",
    "names_dict = {}\n",
    "#снова циклом пробегаем по всем годам, загружаем данные, обрезаем только нужные нам два имени\n",
    "for year in range (1900, 2001):\n",
    "    all_names = pd.read_csv(f\"{DATA_PATH}\\yob{year}.txt\", names = [\"Name\", \"Gender\", \"Count\"])\n",
    "    names_dict[year] =  all_names\n",
    "#в прицнипе всё аналогично, просто данных намного больше, и каждый шаг приходится принтом проверять, что именно получается\n",
    "names = pd.concat(names_dict)\n",
    "names = names.groupby(\"Name\").sum()\n",
    "names = names.sort_values(by=[\"Count\"], ascending=False)\n",
    "names = names.reset_index()\n",
    "names[\"Cons\"] = names.apply(count_cons, axis=1)\n",
    "print(names.head(12))\n",
    "print(names.sort_values(by=[\"Cons\"], ascending=False).head(12))\n",
    "print(names.sort_values(by=[\"Cons\"], ascending=True).head(12))\n",
    "#а вот этим графиком я доволен. ОН не кривой и более менее информативный. Сразу видна \"аномалия\" - разные варианты Кристофер с его 11 согласными буквам и короткие азиатские именаб а также Зоя.\n",
    "names.plot.scatter(x=\"Cons\", y=\"Count\")\n"
   ]
  },
  {
   "cell_type": "code",
   "execution_count": null,
   "metadata": {},
   "outputs": [],
   "source": []
  }
 ],
 "metadata": {
  "kernelspec": {
   "display_name": "Python 3",
   "language": "python",
   "name": "python3"
  },
  "language_info": {
   "codemirror_mode": {
    "name": "ipython",
    "version": 3
   },
   "file_extension": ".py",
   "mimetype": "text/x-python",
   "name": "python",
   "nbconvert_exporter": "python",
   "pygments_lexer": "ipython3",
   "version": "3.6.5"
  }
 },
 "nbformat": 4,
 "nbformat_minor": 2
}
